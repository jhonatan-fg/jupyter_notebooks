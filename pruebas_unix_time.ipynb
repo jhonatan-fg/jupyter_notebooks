{
  "cells": [
    {
      "cell_type": "code",
      "execution_count": 5,
      "metadata": {
        "id": "GMzYK_liX-fS"
      },
      "outputs": [],
      "source": [
        "from pyspark.sql import SparkSession\n",
        "from pyspark.sql.functions import *\n",
        "from datetime import datetime,timedelta\n",
        "import pytz\n",
        "\n",
        "spark = SparkSession.builder\\\n",
        "        .appName(\"Test_unixTime\")\\\n",
        "        .getOrCreate()"
      ]
    },
    {
      "cell_type": "code",
      "execution_count": 6,
      "metadata": {
        "colab": {
          "base_uri": "https://localhost:8080/",
          "height": 225
        },
        "id": "pyi9mTx8YRSw",
        "outputId": "613489f4-c973-4aac-c916-54a15c0db613"
      },
      "outputs": [
        {
          "data": {
            "text/html": [
              "\n",
              "            <div>\n",
              "                <p><b>SparkSession - in-memory</b></p>\n",
              "                \n",
              "        <div>\n",
              "            <p><b>SparkContext</b></p>\n",
              "\n",
              "            <p><a href=\"http://black-arch:4041\">Spark UI</a></p>\n",
              "\n",
              "            <dl>\n",
              "              <dt>Version</dt>\n",
              "                <dd><code>v3.2.1</code></dd>\n",
              "              <dt>Master</dt>\n",
              "                <dd><code>local[*]</code></dd>\n",
              "              <dt>AppName</dt>\n",
              "                <dd><code>Test_unixTime</code></dd>\n",
              "            </dl>\n",
              "        </div>\n",
              "        \n",
              "            </div>\n",
              "        "
            ],
            "text/plain": [
              "<pyspark.sql.session.SparkSession at 0x7f14a27c1b10>"
            ]
          },
          "execution_count": 6,
          "metadata": {},
          "output_type": "execute_result"
        }
      ],
      "source": [
        "spark"
      ]
    },
    {
      "cell_type": "code",
      "execution_count": 7,
      "metadata": {
        "id": "6fg9kVdrfUVr"
      },
      "outputs": [],
      "source": [
        "tz_mexico = pytz.timezone('America/Mexico_City')\n",
        "fecha_hoy = datetime.now(tz_mexico).strftime('%Y-%m-%d %H:%M:%S')\n",
        "fecha_hoy_dt = datetime.now(tz_mexico)"
      ]
    },
    {
      "cell_type": "code",
      "execution_count": 8,
      "metadata": {
        "id": "ugwg_aiOZCh5"
      },
      "outputs": [
        {
          "name": "stderr",
          "output_type": "stream",
          "text": [
            "                                                                                \r"
          ]
        }
      ],
      "source": [
        "df = spark.read.csv('test1.csv', header=True)"
      ]
    },
    {
      "cell_type": "code",
      "execution_count": 9,
      "metadata": {
        "colab": {
          "base_uri": "https://localhost:8080/"
        },
        "id": "g09woBwhZNFZ",
        "outputId": "b25d2e9c-55a4-4d73-a495-f37b766b70eb"
      },
      "outputs": [
        {
          "name": "stdout",
          "output_type": "stream",
          "text": [
            "+---------+---+----------+------+\n",
            "|     Name|age|Experience|Salary|\n",
            "+---------+---+----------+------+\n",
            "|    Krish| 31|        10| 30000|\n",
            "|Sudhanshu| 30|         8| 25000|\n",
            "|    Sunny| 29|         4| 20000|\n",
            "|     Paul| 24|         3| 20000|\n",
            "|   Harsha| 21|         1| 15000|\n",
            "|  Shubham| 23|         2|18000 |\n",
            "+---------+---+----------+------+\n",
            "\n"
          ]
        }
      ],
      "source": [
        "df.show()"
      ]
    },
    {
      "cell_type": "code",
      "execution_count": 10,
      "metadata": {
        "colab": {
          "base_uri": "https://localhost:8080/"
        },
        "id": "pk1uSVdZPA1j",
        "outputId": "0f4d3a59-fdc8-4ecc-a27d-b4ce43f79677"
      },
      "outputs": [
        {
          "data": {
            "text/plain": [
              "6"
            ]
          },
          "execution_count": 10,
          "metadata": {},
          "output_type": "execute_result"
        }
      ],
      "source": [
        "df.count()"
      ]
    },
    {
      "cell_type": "code",
      "execution_count": 11,
      "metadata": {
        "colab": {
          "base_uri": "https://localhost:8080/"
        },
        "id": "BlmiG842QWhL",
        "outputId": "a5bd59b6-e443-45ce-e36e-c4908a68f1b3"
      },
      "outputs": [
        {
          "name": "stdout",
          "output_type": "stream",
          "text": [
            "+---------+---+\n",
            "|     name|age|\n",
            "+---------+---+\n",
            "|    Krish| 31|\n",
            "|Sudhanshu| 30|\n",
            "|    Sunny| 29|\n",
            "|     Paul| 24|\n",
            "|   Harsha| 21|\n",
            "|  Shubham| 23|\n",
            "+---------+---+\n",
            "\n"
          ]
        }
      ],
      "source": [
        "df.select('name','age').show()"
      ]
    },
    {
      "cell_type": "code",
      "execution_count": 12,
      "metadata": {
        "colab": {
          "base_uri": "https://localhost:8080/"
        },
        "id": "B6SY6eFQRlI7",
        "outputId": "13435645-cf95-44a2-9679-1bb323aba551"
      },
      "outputs": [
        {
          "name": "stdout",
          "output_type": "stream",
          "text": [
            "root\n",
            " |-- Name: string (nullable = true)\n",
            " |-- age: string (nullable = true)\n",
            " |-- Experience: string (nullable = true)\n",
            " |-- Salary: string (nullable = true)\n",
            "\n"
          ]
        }
      ],
      "source": [
        "df.printSchema()"
      ]
    },
    {
      "cell_type": "code",
      "execution_count": 13,
      "metadata": {
        "colab": {
          "base_uri": "https://localhost:8080/"
        },
        "id": "lPaneSvFRawx",
        "outputId": "27bdeb31-5ccf-4850-8335-68471ce33fd0"
      },
      "outputs": [
        {
          "name": "stdout",
          "output_type": "stream",
          "text": [
            "root\n",
            " |-- Name: string (nullable = true)\n",
            " |-- Age: integer (nullable = true)\n",
            " |-- Experience: string (nullable = true)\n",
            " |-- Salary: string (nullable = true)\n",
            "\n"
          ]
        }
      ],
      "source": [
        "df.withColumn('Age',df['age'].cast('Integer')).printSchema()"
      ]
    },
    {
      "cell_type": "code",
      "execution_count": 14,
      "metadata": {
        "colab": {
          "base_uri": "https://localhost:8080/"
        },
        "id": "qiAZs94BRUCC",
        "outputId": "4143e850-ee93-40d7-d0b9-1d6d75a4daa5"
      },
      "outputs": [
        {
          "name": "stdout",
          "output_type": "stream",
          "text": [
            "+---------+---+----------+------+\n",
            "|     Name|age|Experience|Salary|\n",
            "+---------+---+----------+------+\n",
            "|    Krish| 31|        10| 30000|\n",
            "|Sudhanshu| 30|         8| 25000|\n",
            "|    Sunny| 29|         4| 20000|\n",
            "|     Paul| 24|         3| 20000|\n",
            "|   Harsha| 21|         1| 15000|\n",
            "|  Shubham| 23|         2|18000 |\n",
            "+---------+---+----------+------+\n",
            "\n"
          ]
        }
      ],
      "source": [
        "df.show()"
      ]
    },
    {
      "cell_type": "code",
      "execution_count": 15,
      "metadata": {
        "colab": {
          "base_uri": "https://localhost:8080/"
        },
        "id": "TtEuwZN8lc7W",
        "outputId": "9e2c455f-59cb-4f1b-8396-a290e059dd8c"
      },
      "outputs": [
        {
          "name": "stdout",
          "output_type": "stream",
          "text": [
            "2022-05-29 17:14:27\n"
          ]
        }
      ],
      "source": [
        "print(fecha_hoy)"
      ]
    },
    {
      "cell_type": "code",
      "execution_count": 16,
      "metadata": {
        "colab": {
          "base_uri": "https://localhost:8080/"
        },
        "id": "ZMccu7a6loGC",
        "outputId": "bf84f4a1-4aeb-473b-a7c1-9a5f8627cf4d"
      },
      "outputs": [
        {
          "name": "stdout",
          "output_type": "stream",
          "text": [
            "+---------+---+----------+------+-------------------+\n",
            "|     Name|age|Experience|Salary|              Fecha|\n",
            "+---------+---+----------+------+-------------------+\n",
            "|    Krish| 31|        10| 30000|2022-05-29 17:14:27|\n",
            "|Sudhanshu| 30|         8| 25000|2022-05-29 17:14:27|\n",
            "|    Sunny| 29|         4| 20000|2022-05-29 17:14:27|\n",
            "|     Paul| 24|         3| 20000|2022-05-29 17:14:27|\n",
            "|   Harsha| 21|         1| 15000|2022-05-29 17:14:27|\n",
            "|  Shubham| 23|         2|18000 |2022-05-29 17:14:27|\n",
            "+---------+---+----------+------+-------------------+\n",
            "\n"
          ]
        }
      ],
      "source": [
        "dff = df.withColumn('Fecha', lit(fecha_hoy))\n",
        "dff.show()"
      ]
    },
    {
      "cell_type": "code",
      "execution_count": 17,
      "metadata": {
        "colab": {
          "base_uri": "https://localhost:8080/"
        },
        "id": "tiFYC3Kzm8_a",
        "outputId": "9569f3ef-3c4c-48e3-88e2-c5819900f183"
      },
      "outputs": [
        {
          "name": "stdout",
          "output_type": "stream",
          "text": [
            "root\n",
            " |-- Name: string (nullable = true)\n",
            " |-- age: string (nullable = true)\n",
            " |-- Experience: string (nullable = true)\n",
            " |-- Salary: string (nullable = true)\n",
            " |-- Fecha: string (nullable = false)\n",
            "\n"
          ]
        }
      ],
      "source": [
        "dff.printSchema()"
      ]
    },
    {
      "cell_type": "code",
      "execution_count": 18,
      "metadata": {
        "colab": {
          "base_uri": "https://localhost:8080/"
        },
        "id": "osh8plV9n_a-",
        "outputId": "3b6ee9bc-d54a-4a01-b186-f79d38d97918"
      },
      "outputs": [
        {
          "name": "stdout",
          "output_type": "stream",
          "text": [
            "+---------+---+----------+------+----------+\n",
            "|     Name|age|Experience|Salary|     fecha|\n",
            "+---------+---+----------+------+----------+\n",
            "|    Krish| 31|        10| 30000|1653862467|\n",
            "|Sudhanshu| 30|         8| 25000|1653862467|\n",
            "|    Sunny| 29|         4| 20000|1653862467|\n",
            "|     Paul| 24|         3| 20000|1653862467|\n",
            "|   Harsha| 21|         1| 15000|1653862467|\n",
            "|  Shubham| 23|         2|18000 |1653862467|\n",
            "+---------+---+----------+------+----------+\n",
            "\n"
          ]
        }
      ],
      "source": [
        "df_unix = dff.select('Name','age','Experience','Salary',unix_timestamp(col('Fecha')).alias('fecha'))\n",
        "df_unix.show()"
      ]
    },
    {
      "cell_type": "code",
      "execution_count": 19,
      "metadata": {
        "colab": {
          "base_uri": "https://localhost:8080/"
        },
        "id": "kXY1ulCRo7Ih",
        "outputId": "93974501-d1bb-4875-a530-95a3861c1220"
      },
      "outputs": [
        {
          "name": "stdout",
          "output_type": "stream",
          "text": [
            "+---------+---+----------+------+-------------------+\n",
            "|     Name|age|Experience|Salary|              fecha|\n",
            "+---------+---+----------+------+-------------------+\n",
            "|    Krish| 31|        10| 30000|2022-05-29 17:14:27|\n",
            "|Sudhanshu| 30|         8| 25000|2022-05-29 17:14:27|\n",
            "|    Sunny| 29|         4| 20000|2022-05-29 17:14:27|\n",
            "|     Paul| 24|         3| 20000|2022-05-29 17:14:27|\n",
            "|   Harsha| 21|         1| 15000|2022-05-29 17:14:27|\n",
            "|  Shubham| 23|         2|18000 |2022-05-29 17:14:27|\n",
            "+---------+---+----------+------+-------------------+\n",
            "\n"
          ]
        }
      ],
      "source": [
        "df_not_unix = df_unix.select('Name','age','Experience','Salary',from_unixtime(col('Fecha')).alias('fecha'))\n",
        "df_not_unix.show()"
      ]
    },
    {
      "cell_type": "code",
      "execution_count": 20,
      "metadata": {
        "colab": {
          "base_uri": "https://localhost:8080/"
        },
        "id": "JC2MKkRvqqa5",
        "outputId": "63b87cfb-c7ce-47de-ee14-d564dffd4bf2"
      },
      "outputs": [
        {
          "name": "stdout",
          "output_type": "stream",
          "text": [
            "+---------+---+----------+------+----------+\n",
            "|     Name|age|Experience|Salary|     fecha|\n",
            "+---------+---+----------+------+----------+\n",
            "|    Krish| 31|        10| 30000|1653862467|\n",
            "|Sudhanshu| 30|         8| 25000|1653862467|\n",
            "|    Sunny| 29|         4| 20000|1653862467|\n",
            "|     Paul| 24|         3| 20000|1653862467|\n",
            "|   Harsha| 21|         1| 15000|1653862467|\n",
            "|  Shubham| 23|         2|18000 |1653862467|\n",
            "+---------+---+----------+------+----------+\n",
            "\n",
            "root\n",
            " |-- Name: string (nullable = true)\n",
            " |-- age: string (nullable = true)\n",
            " |-- Experience: string (nullable = true)\n",
            " |-- Salary: string (nullable = true)\n",
            " |-- fecha: long (nullable = true)\n",
            "\n"
          ]
        }
      ],
      "source": [
        "df_convert = df_not_unix.withColumn(\"fecha\", unix_timestamp(col('fecha')).cast('bigint'))\n",
        "df_convert.show()\n",
        "df_convert.printSchema()"
      ]
    },
    {
      "cell_type": "code",
      "execution_count": 21,
      "metadata": {
        "colab": {
          "base_uri": "https://localhost:8080/"
        },
        "id": "HX21DegVvHYf",
        "outputId": "97e090d3-88ef-4311-f1ee-aaec3fbbce03"
      },
      "outputs": [
        {
          "name": "stdout",
          "output_type": "stream",
          "text": [
            "+---------+---+----------+------+-------------------+\n",
            "|     Name|age|Experience|Salary|              fecha|\n",
            "+---------+---+----------+------+-------------------+\n",
            "|    Krish| 31|        10| 30000|2022-05-29 17:14:27|\n",
            "|Sudhanshu| 30|         8| 25000|2022-05-29 17:14:27|\n",
            "|    Sunny| 29|         4| 20000|2022-05-29 17:14:27|\n",
            "|     Paul| 24|         3| 20000|2022-05-29 17:14:27|\n",
            "|   Harsha| 21|         1| 15000|2022-05-29 17:14:27|\n",
            "|  Shubham| 23|         2|18000 |2022-05-29 17:14:27|\n",
            "+---------+---+----------+------+-------------------+\n",
            "\n",
            "root\n",
            " |-- Name: string (nullable = true)\n",
            " |-- age: string (nullable = true)\n",
            " |-- Experience: string (nullable = true)\n",
            " |-- Salary: string (nullable = true)\n",
            " |-- fecha: string (nullable = true)\n",
            "\n"
          ]
        }
      ],
      "source": [
        "df_convert_2 = df_convert.withColumn('fecha', from_unixtime(col('fecha')).cast('string'))\n",
        "df_convert_2.show()\n",
        "df_convert_2.printSchema()"
      ]
    },
    {
      "cell_type": "code",
      "execution_count": 22,
      "metadata": {
        "colab": {
          "base_uri": "https://localhost:8080/"
        },
        "id": "Zk6L7nlFKy0E",
        "outputId": "7a21f71d-58df-4928-ab27-0cf644f6c056"
      },
      "outputs": [
        {
          "data": {
            "text/plain": [
              "[Row(count(Name)=6)]"
            ]
          },
          "execution_count": 22,
          "metadata": {},
          "output_type": "execute_result"
        }
      ],
      "source": [
        "df.select(count('Name')).collect()"
      ]
    }
  ],
  "metadata": {
    "colab": {
      "collapsed_sections": [],
      "name": "pruebas.ipynb",
      "provenance": []
    },
    "interpreter": {
      "hash": "e7370f93d1d0cde622a1f8e1c04877d8463912d04d973331ad4851f04de6915a"
    },
    "kernelspec": {
      "display_name": "Python 3.10.4 64-bit",
      "language": "python",
      "name": "python3"
    },
    "language_info": {
      "codemirror_mode": {
        "name": "ipython",
        "version": 3
      },
      "file_extension": ".py",
      "mimetype": "text/x-python",
      "name": "python",
      "nbconvert_exporter": "python",
      "pygments_lexer": "ipython3",
      "version": "3.10.4"
    }
  },
  "nbformat": 4,
  "nbformat_minor": 0
}
