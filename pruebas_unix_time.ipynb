{
  "cells": [
    {
      "cell_type": "code",
      "execution_count": null,
      "metadata": {
        "colab": {
          "base_uri": "https://localhost:8080/"
        },
        "id": "rwnjW4PhX4Yo",
        "outputId": "88239ca5-1915-4883-a99f-513c3a474aa3"
      },
      "outputs": [],
      "source": [
        "!pip install pyspark"
      ]
    },
    {
      "cell_type": "code",
      "execution_count": null,
      "metadata": {},
      "outputs": [],
      "source": [
        "!pip install -U pytz"
      ]
    },
    {
      "cell_type": "code",
      "execution_count": null,
      "metadata": {
        "id": "GMzYK_liX-fS"
      },
      "outputs": [],
      "source": [
        "from pyspark.sql import SparkSession\n",
        "from pyspark.sql.functions import *\n",
        "from datetime import datetime,timedelta\n",
        "import pytz\n",
        "\n",
        "spark = SparkSession.builder\\\n",
        "        .appName(\"Test_unixTime\")\\\n",
        "        .getOrCreate()"
      ]
    },
    {
      "cell_type": "code",
      "execution_count": null,
      "metadata": {
        "colab": {
          "base_uri": "https://localhost:8080/",
          "height": 225
        },
        "id": "pyi9mTx8YRSw",
        "outputId": "613489f4-c973-4aac-c916-54a15c0db613"
      },
      "outputs": [],
      "source": [
        "spark"
      ]
    },
    {
      "cell_type": "code",
      "execution_count": null,
      "metadata": {
        "id": "6fg9kVdrfUVr"
      },
      "outputs": [],
      "source": [
        "tz_mexico = pytz.timezone('America/Mexico_City')\n",
        "fecha_hoy = datetime.now(tz_mexico).strftime('%Y-%m-%d %H:%M:%S')\n",
        "fecha_hoy_dt = datetime.now(tz_mexico)"
      ]
    },
    {
      "cell_type": "code",
      "execution_count": null,
      "metadata": {
        "id": "ugwg_aiOZCh5"
      },
      "outputs": [],
      "source": [
        "df = spark.read.csv('/content/drive/MyDrive/Colab Notebooks/test1.csv', header=True)"
      ]
    },
    {
      "cell_type": "code",
      "execution_count": null,
      "metadata": {
        "colab": {
          "base_uri": "https://localhost:8080/"
        },
        "id": "g09woBwhZNFZ",
        "outputId": "b25d2e9c-55a4-4d73-a495-f37b766b70eb"
      },
      "outputs": [],
      "source": [
        "df.show()"
      ]
    },
    {
      "cell_type": "code",
      "execution_count": null,
      "metadata": {
        "colab": {
          "base_uri": "https://localhost:8080/"
        },
        "id": "pk1uSVdZPA1j",
        "outputId": "0f4d3a59-fdc8-4ecc-a27d-b4ce43f79677"
      },
      "outputs": [],
      "source": [
        "df.count()"
      ]
    },
    {
      "cell_type": "code",
      "execution_count": null,
      "metadata": {
        "colab": {
          "base_uri": "https://localhost:8080/"
        },
        "id": "BlmiG842QWhL",
        "outputId": "a5bd59b6-e443-45ce-e36e-c4908a68f1b3"
      },
      "outputs": [],
      "source": [
        "df.select('name','age').show()"
      ]
    },
    {
      "cell_type": "code",
      "execution_count": null,
      "metadata": {
        "colab": {
          "base_uri": "https://localhost:8080/"
        },
        "id": "B6SY6eFQRlI7",
        "outputId": "13435645-cf95-44a2-9679-1bb323aba551"
      },
      "outputs": [],
      "source": [
        "df.printSchema()"
      ]
    },
    {
      "cell_type": "code",
      "execution_count": null,
      "metadata": {
        "colab": {
          "base_uri": "https://localhost:8080/"
        },
        "id": "lPaneSvFRawx",
        "outputId": "27bdeb31-5ccf-4850-8335-68471ce33fd0"
      },
      "outputs": [],
      "source": [
        "df.withColumn('Age',df['age'].cast('Integer')).printSchema()"
      ]
    },
    {
      "cell_type": "code",
      "execution_count": null,
      "metadata": {
        "colab": {
          "base_uri": "https://localhost:8080/"
        },
        "id": "qiAZs94BRUCC",
        "outputId": "4143e850-ee93-40d7-d0b9-1d6d75a4daa5"
      },
      "outputs": [],
      "source": [
        "df.show()"
      ]
    },
    {
      "cell_type": "code",
      "execution_count": null,
      "metadata": {
        "colab": {
          "base_uri": "https://localhost:8080/"
        },
        "id": "TtEuwZN8lc7W",
        "outputId": "9e2c455f-59cb-4f1b-8396-a290e059dd8c"
      },
      "outputs": [],
      "source": [
        "print(fecha_hoy)"
      ]
    },
    {
      "cell_type": "code",
      "execution_count": null,
      "metadata": {
        "colab": {
          "base_uri": "https://localhost:8080/"
        },
        "id": "ZMccu7a6loGC",
        "outputId": "bf84f4a1-4aeb-473b-a7c1-9a5f8627cf4d"
      },
      "outputs": [],
      "source": [
        "dff = df.withColumn('Fecha', lit(fecha_hoy))\n",
        "dff.show()"
      ]
    },
    {
      "cell_type": "code",
      "execution_count": null,
      "metadata": {
        "colab": {
          "base_uri": "https://localhost:8080/"
        },
        "id": "tiFYC3Kzm8_a",
        "outputId": "9569f3ef-3c4c-48e3-88e2-c5819900f183"
      },
      "outputs": [],
      "source": [
        "dff.printSchema()"
      ]
    },
    {
      "cell_type": "code",
      "execution_count": null,
      "metadata": {
        "colab": {
          "base_uri": "https://localhost:8080/"
        },
        "id": "osh8plV9n_a-",
        "outputId": "3b6ee9bc-d54a-4a01-b186-f79d38d97918"
      },
      "outputs": [],
      "source": [
        "df_unix = dff.select('Name','age','Experience','Salary',unix_timestamp(col('Fecha')).alias('fecha'))\n",
        "df_unix.show()"
      ]
    },
    {
      "cell_type": "code",
      "execution_count": null,
      "metadata": {
        "colab": {
          "base_uri": "https://localhost:8080/"
        },
        "id": "kXY1ulCRo7Ih",
        "outputId": "93974501-d1bb-4875-a530-95a3861c1220"
      },
      "outputs": [],
      "source": [
        "df_not_unix = df_unix.select('Name','age','Experience','Salary',from_unixtime(col('Fecha')).alias('fecha'))\n",
        "df_not_unix.show()"
      ]
    },
    {
      "cell_type": "code",
      "execution_count": null,
      "metadata": {
        "colab": {
          "base_uri": "https://localhost:8080/"
        },
        "id": "JC2MKkRvqqa5",
        "outputId": "63b87cfb-c7ce-47de-ee14-d564dffd4bf2"
      },
      "outputs": [],
      "source": [
        "df_convert = df_not_unix.withColumn(\"fecha\", unix_timestamp(col('fecha')).cast('bigint'))\n",
        "df_convert.show()\n",
        "df_convert.printSchema()"
      ]
    },
    {
      "cell_type": "code",
      "execution_count": null,
      "metadata": {
        "colab": {
          "base_uri": "https://localhost:8080/"
        },
        "id": "HX21DegVvHYf",
        "outputId": "97e090d3-88ef-4311-f1ee-aaec3fbbce03"
      },
      "outputs": [],
      "source": [
        "df_convert_2 = df_convert.withColumn('fecha', from_unixtime(col('fecha')).cast('string'))\n",
        "df_convert_2.show()\n",
        "df_convert_2.printSchema()"
      ]
    },
    {
      "cell_type": "code",
      "execution_count": null,
      "metadata": {
        "colab": {
          "base_uri": "https://localhost:8080/"
        },
        "id": "Zk6L7nlFKy0E",
        "outputId": "7a21f71d-58df-4928-ab27-0cf644f6c056"
      },
      "outputs": [],
      "source": [
        "df.select(count('Name')).collect()"
      ]
    }
  ],
  "metadata": {
    "colab": {
      "collapsed_sections": [],
      "name": "pruebas.ipynb",
      "provenance": []
    },
    "interpreter": {
      "hash": "e7370f93d1d0cde622a1f8e1c04877d8463912d04d973331ad4851f04de6915a"
    },
    "kernelspec": {
      "display_name": "Python 3.10.4 64-bit",
      "language": "python",
      "name": "python3"
    },
    "language_info": {
      "codemirror_mode": {
        "name": "ipython",
        "version": 3
      },
      "file_extension": ".py",
      "mimetype": "text/x-python",
      "name": "python",
      "nbconvert_exporter": "python",
      "pygments_lexer": "ipython3",
      "version": "3.10.4"
    }
  },
  "nbformat": 4,
  "nbformat_minor": 0
}
