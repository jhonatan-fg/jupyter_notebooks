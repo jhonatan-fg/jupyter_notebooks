{
  "nbformat": 4,
  "nbformat_minor": 0,
  "metadata": {
    "colab": {
      "name": "pruebas.ipynb",
      "provenance": [],
      "collapsed_sections": []
    },
    "kernelspec": {
      "name": "python3",
      "display_name": "Python 3"
    },
    "language_info": {
      "name": "python"
    }
  },
  "cells": [
    {
      "cell_type": "code",
      "source": [
        "!pip install pyspark"
      ],
      "metadata": {
        "colab": {
          "base_uri": "https://localhost:8080/"
        },
        "id": "rwnjW4PhX4Yo",
        "outputId": "c7f5fc28-438b-4fe9-9caf-3a124b328538"
      },
      "execution_count": 1,
      "outputs": [
        {
          "output_type": "stream",
          "name": "stdout",
          "text": [
            "Looking in indexes: https://pypi.org/simple, https://us-python.pkg.dev/colab-wheels/public/simple/\n",
            "Collecting pyspark\n",
            "  Downloading pyspark-3.2.1.tar.gz (281.4 MB)\n",
            "\u001b[K     |████████████████████████████████| 281.4 MB 36 kB/s \n",
            "\u001b[?25hCollecting py4j==0.10.9.3\n",
            "  Downloading py4j-0.10.9.3-py2.py3-none-any.whl (198 kB)\n",
            "\u001b[K     |████████████████████████████████| 198 kB 55.8 MB/s \n",
            "\u001b[?25hBuilding wheels for collected packages: pyspark\n",
            "  Building wheel for pyspark (setup.py) ... \u001b[?25l\u001b[?25hdone\n",
            "  Created wheel for pyspark: filename=pyspark-3.2.1-py2.py3-none-any.whl size=281853642 sha256=538f928ce7557c078bf0cd90423dba44774c976c4a78a6f7485fd309fd9775bb\n",
            "  Stored in directory: /root/.cache/pip/wheels/9f/f5/07/7cd8017084dce4e93e84e92efd1e1d5334db05f2e83bcef74f\n",
            "Successfully built pyspark\n",
            "Installing collected packages: py4j, pyspark\n",
            "Successfully installed py4j-0.10.9.3 pyspark-3.2.1\n"
          ]
        }
      ]
    },
    {
      "cell_type": "code",
      "source": [
        "from pyspark.sql import SparkSession\n",
        "from pyspark.sql.functions import *\n",
        "from datetime import datetime,timedelta\n",
        "import pytz\n",
        "\n",
        "spark = SparkSession.builder\\\n",
        "        .appName(\"Test_unixTime\")\\\n",
        "        .getOrCreate()"
      ],
      "metadata": {
        "id": "GMzYK_liX-fS"
      },
      "execution_count": 2,
      "outputs": []
    },
    {
      "cell_type": "code",
      "source": [
        "spark"
      ],
      "metadata": {
        "colab": {
          "base_uri": "https://localhost:8080/",
          "height": 225
        },
        "id": "pyi9mTx8YRSw",
        "outputId": "5032d120-97c0-4c1c-817e-2c80f997e6a1"
      },
      "execution_count": 3,
      "outputs": [
        {
          "output_type": "execute_result",
          "data": {
            "text/plain": [
              "<pyspark.sql.session.SparkSession at 0x7f2d3f368bd0>"
            ],
            "text/html": [
              "\n",
              "            <div>\n",
              "                <p><b>SparkSession - in-memory</b></p>\n",
              "                \n",
              "        <div>\n",
              "            <p><b>SparkContext</b></p>\n",
              "\n",
              "            <p><a href=\"http://d2c5dcf8bb05:4040\">Spark UI</a></p>\n",
              "\n",
              "            <dl>\n",
              "              <dt>Version</dt>\n",
              "                <dd><code>v3.2.1</code></dd>\n",
              "              <dt>Master</dt>\n",
              "                <dd><code>local[*]</code></dd>\n",
              "              <dt>AppName</dt>\n",
              "                <dd><code>Test_unixTime</code></dd>\n",
              "            </dl>\n",
              "        </div>\n",
              "        \n",
              "            </div>\n",
              "        "
            ]
          },
          "metadata": {},
          "execution_count": 3
        }
      ]
    },
    {
      "cell_type": "code",
      "source": [
        "tz_mexico = pytz.timezone('America/Mexico_City')\n",
        "fecha_hoy = datetime.now(tz_mexico).strftime('%Y-%m-%d %H:%M:%S')\n",
        "fecha_hoy_dt = datetime.now(tz_mexico)"
      ],
      "metadata": {
        "id": "6fg9kVdrfUVr"
      },
      "execution_count": 4,
      "outputs": []
    },
    {
      "cell_type": "code",
      "source": [
        "df = spark.read.csv('/content/drive/MyDrive/Colab Notebooks/test1.csv', header=True)"
      ],
      "metadata": {
        "id": "ugwg_aiOZCh5"
      },
      "execution_count": null,
      "outputs": []
    },
    {
      "cell_type": "code",
      "source": [
        "df.show()"
      ],
      "metadata": {
        "colab": {
          "base_uri": "https://localhost:8080/"
        },
        "id": "g09woBwhZNFZ",
        "outputId": "b25d2e9c-55a4-4d73-a495-f37b766b70eb"
      },
      "execution_count": null,
      "outputs": [
        {
          "output_type": "stream",
          "name": "stdout",
          "text": [
            "+---------+---+----------+------+\n",
            "|     Name|age|Experience|Salary|\n",
            "+---------+---+----------+------+\n",
            "|    Krish| 31|        10| 30000|\n",
            "|Sudhanshu| 30|         8| 25000|\n",
            "|    Sunny| 29|         4| 20000|\n",
            "|     Paul| 24|         3| 20000|\n",
            "|   Harsha| 21|         1| 15000|\n",
            "|  Shubham| 23|         2|18000 |\n",
            "+---------+---+----------+------+\n",
            "\n"
          ]
        }
      ]
    },
    {
      "cell_type": "code",
      "source": [
        "df.count()"
      ],
      "metadata": {
        "colab": {
          "base_uri": "https://localhost:8080/"
        },
        "id": "pk1uSVdZPA1j",
        "outputId": "0f4d3a59-fdc8-4ecc-a27d-b4ce43f79677"
      },
      "execution_count": null,
      "outputs": [
        {
          "output_type": "execute_result",
          "data": {
            "text/plain": [
              "6"
            ]
          },
          "metadata": {},
          "execution_count": 7
        }
      ]
    },
    {
      "cell_type": "code",
      "source": [
        "df.select('name','age').show()"
      ],
      "metadata": {
        "colab": {
          "base_uri": "https://localhost:8080/"
        },
        "id": "BlmiG842QWhL",
        "outputId": "a5bd59b6-e443-45ce-e36e-c4908a68f1b3"
      },
      "execution_count": null,
      "outputs": [
        {
          "output_type": "stream",
          "name": "stdout",
          "text": [
            "+---------+---+\n",
            "|     name|age|\n",
            "+---------+---+\n",
            "|    Krish| 31|\n",
            "|Sudhanshu| 30|\n",
            "|    Sunny| 29|\n",
            "|     Paul| 24|\n",
            "|   Harsha| 21|\n",
            "|  Shubham| 23|\n",
            "+---------+---+\n",
            "\n"
          ]
        }
      ]
    },
    {
      "cell_type": "code",
      "source": [
        "df.printSchema()"
      ],
      "metadata": {
        "colab": {
          "base_uri": "https://localhost:8080/"
        },
        "id": "B6SY6eFQRlI7",
        "outputId": "13435645-cf95-44a2-9679-1bb323aba551"
      },
      "execution_count": null,
      "outputs": [
        {
          "output_type": "stream",
          "name": "stdout",
          "text": [
            "root\n",
            " |-- Name: string (nullable = true)\n",
            " |-- age: string (nullable = true)\n",
            " |-- Experience: string (nullable = true)\n",
            " |-- Salary: string (nullable = true)\n",
            "\n"
          ]
        }
      ]
    },
    {
      "cell_type": "code",
      "source": [
        "df.withColumn('Age',df['age'].cast('Integer')).printSchema()"
      ],
      "metadata": {
        "colab": {
          "base_uri": "https://localhost:8080/"
        },
        "id": "lPaneSvFRawx",
        "outputId": "27bdeb31-5ccf-4850-8335-68471ce33fd0"
      },
      "execution_count": null,
      "outputs": [
        {
          "output_type": "stream",
          "name": "stdout",
          "text": [
            "root\n",
            " |-- Name: string (nullable = true)\n",
            " |-- Age: integer (nullable = true)\n",
            " |-- Experience: string (nullable = true)\n",
            " |-- Salary: string (nullable = true)\n",
            "\n"
          ]
        }
      ]
    },
    {
      "cell_type": "code",
      "source": [
        "df.show()"
      ],
      "metadata": {
        "colab": {
          "base_uri": "https://localhost:8080/"
        },
        "id": "qiAZs94BRUCC",
        "outputId": "4143e850-ee93-40d7-d0b9-1d6d75a4daa5"
      },
      "execution_count": null,
      "outputs": [
        {
          "output_type": "stream",
          "name": "stdout",
          "text": [
            "+---------+---+----------+------+\n",
            "|     Name|age|Experience|Salary|\n",
            "+---------+---+----------+------+\n",
            "|    Krish| 31|        10| 30000|\n",
            "|Sudhanshu| 30|         8| 25000|\n",
            "|    Sunny| 29|         4| 20000|\n",
            "|     Paul| 24|         3| 20000|\n",
            "|   Harsha| 21|         1| 15000|\n",
            "|  Shubham| 23|         2|18000 |\n",
            "+---------+---+----------+------+\n",
            "\n"
          ]
        }
      ]
    },
    {
      "cell_type": "code",
      "source": [
        "print(fecha_hoy)"
      ],
      "metadata": {
        "colab": {
          "base_uri": "https://localhost:8080/"
        },
        "id": "TtEuwZN8lc7W",
        "outputId": "9e2c455f-59cb-4f1b-8396-a290e059dd8c"
      },
      "execution_count": null,
      "outputs": [
        {
          "output_type": "stream",
          "name": "stdout",
          "text": [
            "2022-05-22 22:07:00\n"
          ]
        }
      ]
    },
    {
      "cell_type": "code",
      "source": [
        "dff = df.withColumn('Fecha', lit(fecha_hoy))\n",
        "dff.show()"
      ],
      "metadata": {
        "colab": {
          "base_uri": "https://localhost:8080/"
        },
        "id": "ZMccu7a6loGC",
        "outputId": "bf84f4a1-4aeb-473b-a7c1-9a5f8627cf4d"
      },
      "execution_count": null,
      "outputs": [
        {
          "output_type": "stream",
          "name": "stdout",
          "text": [
            "+---------+---+----------+------+-------------------+\n",
            "|     Name|age|Experience|Salary|              Fecha|\n",
            "+---------+---+----------+------+-------------------+\n",
            "|    Krish| 31|        10| 30000|2022-05-22 22:07:00|\n",
            "|Sudhanshu| 30|         8| 25000|2022-05-22 22:07:00|\n",
            "|    Sunny| 29|         4| 20000|2022-05-22 22:07:00|\n",
            "|     Paul| 24|         3| 20000|2022-05-22 22:07:00|\n",
            "|   Harsha| 21|         1| 15000|2022-05-22 22:07:00|\n",
            "|  Shubham| 23|         2|18000 |2022-05-22 22:07:00|\n",
            "+---------+---+----------+------+-------------------+\n",
            "\n"
          ]
        }
      ]
    },
    {
      "cell_type": "code",
      "source": [
        "dff.printSchema()"
      ],
      "metadata": {
        "colab": {
          "base_uri": "https://localhost:8080/"
        },
        "id": "tiFYC3Kzm8_a",
        "outputId": "9569f3ef-3c4c-48e3-88e2-c5819900f183"
      },
      "execution_count": null,
      "outputs": [
        {
          "output_type": "stream",
          "name": "stdout",
          "text": [
            "root\n",
            " |-- Name: string (nullable = true)\n",
            " |-- age: string (nullable = true)\n",
            " |-- Experience: string (nullable = true)\n",
            " |-- Salary: string (nullable = true)\n",
            " |-- Fecha: string (nullable = false)\n",
            "\n"
          ]
        }
      ]
    },
    {
      "cell_type": "code",
      "source": [
        "df_unix = dff.select('Name','age','Experience','Salary',unix_timestamp(col('Fecha')).alias('fecha'))\n",
        "df_unix.show()"
      ],
      "metadata": {
        "colab": {
          "base_uri": "https://localhost:8080/"
        },
        "id": "osh8plV9n_a-",
        "outputId": "3b6ee9bc-d54a-4a01-b186-f79d38d97918"
      },
      "execution_count": null,
      "outputs": [
        {
          "output_type": "stream",
          "name": "stdout",
          "text": [
            "+---------+---+----------+------+----------+\n",
            "|     Name|age|Experience|Salary|     fecha|\n",
            "+---------+---+----------+------+----------+\n",
            "|    Krish| 31|        10| 30000|1653257220|\n",
            "|Sudhanshu| 30|         8| 25000|1653257220|\n",
            "|    Sunny| 29|         4| 20000|1653257220|\n",
            "|     Paul| 24|         3| 20000|1653257220|\n",
            "|   Harsha| 21|         1| 15000|1653257220|\n",
            "|  Shubham| 23|         2|18000 |1653257220|\n",
            "+---------+---+----------+------+----------+\n",
            "\n"
          ]
        }
      ]
    },
    {
      "cell_type": "code",
      "source": [
        "df_not_unix = df_unix.select('Name','age','Experience','Salary',from_unixtime(col('Fecha')).alias('fecha'))\n",
        "df_not_unix.show()"
      ],
      "metadata": {
        "colab": {
          "base_uri": "https://localhost:8080/"
        },
        "id": "kXY1ulCRo7Ih",
        "outputId": "93974501-d1bb-4875-a530-95a3861c1220"
      },
      "execution_count": null,
      "outputs": [
        {
          "output_type": "stream",
          "name": "stdout",
          "text": [
            "+---------+---+----------+------+-------------------+\n",
            "|     Name|age|Experience|Salary|              fecha|\n",
            "+---------+---+----------+------+-------------------+\n",
            "|    Krish| 31|        10| 30000|2022-05-22 22:07:00|\n",
            "|Sudhanshu| 30|         8| 25000|2022-05-22 22:07:00|\n",
            "|    Sunny| 29|         4| 20000|2022-05-22 22:07:00|\n",
            "|     Paul| 24|         3| 20000|2022-05-22 22:07:00|\n",
            "|   Harsha| 21|         1| 15000|2022-05-22 22:07:00|\n",
            "|  Shubham| 23|         2|18000 |2022-05-22 22:07:00|\n",
            "+---------+---+----------+------+-------------------+\n",
            "\n"
          ]
        }
      ]
    },
    {
      "cell_type": "code",
      "source": [
        "df_convert = df_not_unix.withColumn(\"fecha\", unix_timestamp(col('fecha')).cast('bigint'))\n",
        "df_convert.show()\n",
        "df_convert.printSchema()"
      ],
      "metadata": {
        "colab": {
          "base_uri": "https://localhost:8080/"
        },
        "id": "JC2MKkRvqqa5",
        "outputId": "63b87cfb-c7ce-47de-ee14-d564dffd4bf2"
      },
      "execution_count": null,
      "outputs": [
        {
          "output_type": "stream",
          "name": "stdout",
          "text": [
            "+---------+---+----------+------+----------+\n",
            "|     Name|age|Experience|Salary|     fecha|\n",
            "+---------+---+----------+------+----------+\n",
            "|    Krish| 31|        10| 30000|1653257220|\n",
            "|Sudhanshu| 30|         8| 25000|1653257220|\n",
            "|    Sunny| 29|         4| 20000|1653257220|\n",
            "|     Paul| 24|         3| 20000|1653257220|\n",
            "|   Harsha| 21|         1| 15000|1653257220|\n",
            "|  Shubham| 23|         2|18000 |1653257220|\n",
            "+---------+---+----------+------+----------+\n",
            "\n",
            "root\n",
            " |-- Name: string (nullable = true)\n",
            " |-- age: string (nullable = true)\n",
            " |-- Experience: string (nullable = true)\n",
            " |-- Salary: string (nullable = true)\n",
            " |-- fecha: long (nullable = true)\n",
            "\n"
          ]
        }
      ]
    },
    {
      "cell_type": "code",
      "source": [
        "df_convert_2 = df_convert.withColumn('fecha', from_unixtime(col('fecha')).cast('string'))\n",
        "df_convert_2.show()\n",
        "df_convert_2.printSchema()"
      ],
      "metadata": {
        "colab": {
          "base_uri": "https://localhost:8080/"
        },
        "id": "HX21DegVvHYf",
        "outputId": "97e090d3-88ef-4311-f1ee-aaec3fbbce03"
      },
      "execution_count": null,
      "outputs": [
        {
          "output_type": "stream",
          "name": "stdout",
          "text": [
            "+---------+---+----------+------+-------------------+\n",
            "|     Name|age|Experience|Salary|              fecha|\n",
            "+---------+---+----------+------+-------------------+\n",
            "|    Krish| 31|        10| 30000|2022-05-22 22:07:00|\n",
            "|Sudhanshu| 30|         8| 25000|2022-05-22 22:07:00|\n",
            "|    Sunny| 29|         4| 20000|2022-05-22 22:07:00|\n",
            "|     Paul| 24|         3| 20000|2022-05-22 22:07:00|\n",
            "|   Harsha| 21|         1| 15000|2022-05-22 22:07:00|\n",
            "|  Shubham| 23|         2|18000 |2022-05-22 22:07:00|\n",
            "+---------+---+----------+------+-------------------+\n",
            "\n",
            "root\n",
            " |-- Name: string (nullable = true)\n",
            " |-- age: string (nullable = true)\n",
            " |-- Experience: string (nullable = true)\n",
            " |-- Salary: string (nullable = true)\n",
            " |-- fecha: string (nullable = true)\n",
            "\n"
          ]
        }
      ]
    },
    {
      "cell_type": "code",
      "source": [
        "df.select(count('Name')).collect()"
      ],
      "metadata": {
        "colab": {
          "base_uri": "https://localhost:8080/"
        },
        "outputId": "7a21f71d-58df-4928-ab27-0cf644f6c056",
        "id": "Zk6L7nlFKy0E"
      },
      "execution_count": null,
      "outputs": [
        {
          "output_type": "execute_result",
          "data": {
            "text/plain": [
              "[Row(count(Name)=6)]"
            ]
          },
          "metadata": {},
          "execution_count": 21
        }
      ]
    },
    {
      "cell_type": "code",
      "source": [
        "df = spark.read.csv('/ratings.csv', header=True)"
      ],
      "metadata": {
        "id": "uA38MFEPCu40"
      },
      "execution_count": 15,
      "outputs": []
    },
    {
      "cell_type": "code",
      "source": [
        "df.show()"
      ],
      "metadata": {
        "colab": {
          "base_uri": "https://localhost:8080/"
        },
        "id": "y-N1r6lrC90L",
        "outputId": "38580e91-6651-436d-8bd0-857af1343390"
      },
      "execution_count": 7,
      "outputs": [
        {
          "output_type": "stream",
          "name": "stdout",
          "text": [
            "+------+-------+------+---------+\n",
            "|userId|movieId|rating|timestamp|\n",
            "+------+-------+------+---------+\n",
            "|     1|      1|   4.0|964982703|\n",
            "|     1|      3|   4.0|964981247|\n",
            "|     1|      6|   4.0|964982224|\n",
            "|     1|     47|   5.0|964983815|\n",
            "|     1|     50|   5.0|964982931|\n",
            "|     1|     70|   3.0|964982400|\n",
            "|     1|    101|   5.0|964980868|\n",
            "|     1|    110|   4.0|964982176|\n",
            "|     1|    151|   5.0|964984041|\n",
            "|     1|    157|   5.0|964984100|\n",
            "|     1|    163|   5.0|964983650|\n",
            "|     1|    216|   5.0|964981208|\n",
            "|     1|    223|   3.0|964980985|\n",
            "|     1|    231|   5.0|964981179|\n",
            "|     1|    235|   4.0|964980908|\n",
            "|     1|    260|   5.0|964981680|\n",
            "|     1|    296|   3.0|964982967|\n",
            "|     1|    316|   3.0|964982310|\n",
            "|     1|    333|   5.0|964981179|\n",
            "|     1|    349|   4.0|964982563|\n",
            "+------+-------+------+---------+\n",
            "only showing top 20 rows\n",
            "\n"
          ]
        }
      ]
    },
    {
      "cell_type": "code",
      "source": [
        "list_users = ['1','2','3','4','5','6','7','8','9']"
      ],
      "metadata": {
        "id": "6wvw3zgYFV7V"
      },
      "execution_count": 58,
      "outputs": []
    },
    {
      "cell_type": "code",
      "source": [
        "df_new = df.select(df.userId,df.movieId)\n",
        "df_new.show()"
      ],
      "metadata": {
        "colab": {
          "base_uri": "https://localhost:8080/"
        },
        "id": "J8hHapR1JmhG",
        "outputId": "5b1b386f-def7-43ad-d8a5-1d4d1e0468fb"
      },
      "execution_count": 93,
      "outputs": [
        {
          "output_type": "stream",
          "name": "stdout",
          "text": [
            "+------+-------+\n",
            "|userId|movieId|\n",
            "+------+-------+\n",
            "|     1|      1|\n",
            "|     1|      3|\n",
            "|     1|      6|\n",
            "|     1|     47|\n",
            "|     1|     50|\n",
            "|     1|     70|\n",
            "|     1|    101|\n",
            "|     1|    110|\n",
            "|     1|    151|\n",
            "|     1|    157|\n",
            "|     1|    163|\n",
            "|     1|    216|\n",
            "|     1|    223|\n",
            "|     1|    231|\n",
            "|     1|    235|\n",
            "|     1|    260|\n",
            "|     1|    296|\n",
            "|     1|    316|\n",
            "|     1|    333|\n",
            "|     1|    349|\n",
            "+------+-------+\n",
            "only showing top 20 rows\n",
            "\n"
          ]
        }
      ]
    },
    {
      "cell_type": "code",
      "source": [
        "users = df_new.\\\n",
        "  select('userId','movieId').\\\n",
        "  filter(df_new.userId.isin(list_users))"
      ],
      "metadata": {
        "id": "JrpxVk6dRZLy"
      },
      "execution_count": 167,
      "outputs": []
    },
    {
      "cell_type": "code",
      "source": [
        "users2 = users.groupBy('userId').agg(count('movieId').alias('movies')).orderBy(users.userId.asc())"
      ],
      "metadata": {
        "id": "dkGzpDekLvle"
      },
      "execution_count": 172,
      "outputs": []
    },
    {
      "cell_type": "code",
      "source": [
        "users2.show()"
      ],
      "metadata": {
        "colab": {
          "base_uri": "https://localhost:8080/"
        },
        "id": "uU5RdBKbPYbi",
        "outputId": "8321cd0d-b6db-43c4-dd14-01eaae1b5368"
      },
      "execution_count": 173,
      "outputs": [
        {
          "output_type": "stream",
          "name": "stdout",
          "text": [
            "+------+------+\n",
            "|userId|movies|\n",
            "+------+------+\n",
            "|     1|   232|\n",
            "|     2|    29|\n",
            "|     3|    39|\n",
            "|     4|   216|\n",
            "|     5|    44|\n",
            "|     6|   314|\n",
            "|     7|   152|\n",
            "|     8|    47|\n",
            "|     9|    46|\n",
            "+------+------+\n",
            "\n"
          ]
        }
      ]
    },
    {
      "cell_type": "code",
      "source": [
        "users_pivot = users.groupBy('userId').pivot('userId').agg(count('movieId').alias('movies')).withColumn('Usuarios',lit('Number of movies')).orderBy(users.userId.asc())\n",
        "users_pivot.printSchema()"
      ],
      "metadata": {
        "colab": {
          "base_uri": "https://localhost:8080/"
        },
        "id": "IchdqvjXZpYt",
        "outputId": "ca09f54a-a7ca-4a1f-e305-4101de0b3f2d"
      },
      "execution_count": 268,
      "outputs": [
        {
          "output_type": "stream",
          "name": "stdout",
          "text": [
            "root\n",
            " |-- userId: string (nullable = true)\n",
            " |-- 1: long (nullable = true)\n",
            " |-- 2: long (nullable = true)\n",
            " |-- 3: long (nullable = true)\n",
            " |-- 4: long (nullable = true)\n",
            " |-- 5: long (nullable = true)\n",
            " |-- 6: long (nullable = true)\n",
            " |-- 7: long (nullable = true)\n",
            " |-- 8: long (nullable = true)\n",
            " |-- 9: long (nullable = true)\n",
            " |-- Usuarios: string (nullable = false)\n",
            "\n"
          ]
        }
      ]
    },
    {
      "cell_type": "code",
      "source": [
        "otro = users_pivot.select(\n",
        "    sum('1').alias('user 1'),\n",
        "    sum('2').alias('user 2'),\n",
        "    sum('3').alias('user 3'),\n",
        "    sum('4').alias('user 4'),\n",
        "    sum('5').alias('user 5'),\n",
        "    sum('6').alias('user 6'),\n",
        "    sum('7').alias('user 7'),\n",
        "    sum('8').alias('user 8'),\n",
        "    sum('9').alias('user 9'))"
      ],
      "metadata": {
        "id": "OU1XAhkbc_9v"
      },
      "execution_count": 273,
      "outputs": []
    },
    {
      "cell_type": "code",
      "source": [
        "otro.show()"
      ],
      "metadata": {
        "colab": {
          "base_uri": "https://localhost:8080/"
        },
        "id": "nFVrDBJIdmdW",
        "outputId": "76ae32e7-2e95-483d-a910-6589391d20c0"
      },
      "execution_count": 274,
      "outputs": [
        {
          "output_type": "stream",
          "name": "stdout",
          "text": [
            "+------+------+------+------+------+------+------+------+------+\n",
            "|user 1|user 2|user 3|user 4|user 5|user 6|user 7|user 8|user 9|\n",
            "+------+------+------+------+------+------+------+------+------+\n",
            "|   232|    29|    39|   216|    44|   314|   152|    47|    46|\n",
            "+------+------+------+------+------+------+------+------+------+\n",
            "\n"
          ]
        }
      ]
    },
    {
      "cell_type": "code",
      "source": [
        ""
      ],
      "metadata": {
        "id": "MCaJA4GcoNO3"
      },
      "execution_count": null,
      "outputs": []
    }
  ]
}