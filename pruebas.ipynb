{
  "cells": [
    {
      "cell_type": "code",
      "execution_count": null,
      "metadata": {
        "colab": {
          "base_uri": "https://localhost:8080/"
        },
        "id": "rwnjW4PhX4Yo",
        "outputId": "9af67b75-b6bf-4c10-bfc1-b9ff6a9c4cbf"
      },
      "outputs": [
        {
          "name": "stdout",
          "output_type": "stream",
          "text": [
            "Collecting pyspark\n",
            "  Downloading pyspark-3.2.1.tar.gz (281.4 MB)\n",
            "\u001b[K     |████████████████████████████████| 281.4 MB 41 kB/s \n",
            "\u001b[?25hCollecting py4j==0.10.9.3\n",
            "  Downloading py4j-0.10.9.3-py2.py3-none-any.whl (198 kB)\n",
            "\u001b[K     |████████████████████████████████| 198 kB 69.7 MB/s \n",
            "\u001b[?25hBuilding wheels for collected packages: pyspark\n",
            "  Building wheel for pyspark (setup.py) ... \u001b[?25l\u001b[?25hdone\n",
            "  Created wheel for pyspark: filename=pyspark-3.2.1-py2.py3-none-any.whl size=281853642 sha256=f78ae808ecd44b95ac146d024dc6b5cb66e95ea7208a025af74ea42cc978133d\n",
            "  Stored in directory: /root/.cache/pip/wheels/9f/f5/07/7cd8017084dce4e93e84e92efd1e1d5334db05f2e83bcef74f\n",
            "Successfully built pyspark\n",
            "Installing collected packages: py4j, pyspark\n",
            "Successfully installed py4j-0.10.9.3 pyspark-3.2.1\n"
          ]
        }
      ],
      "source": [
        "!pip install pyspark"
      ]
    },
    {
      "cell_type": "code",
      "execution_count": null,
      "metadata": {
        "id": "GMzYK_liX-fS"
      },
      "outputs": [],
      "source": [
        "from pyspark.sql import SparkSession\n",
        "spark = SparkSession.builder\\\n",
        "        .master(\"local\")\\\n",
        "        .appName(\"Colab\")\\\n",
        "        .config('spark.ui.port', '4050')\\\n",
        "        .getOrCreate()"
      ]
    },
    {
      "cell_type": "code",
      "execution_count": null,
      "metadata": {
        "colab": {
          "base_uri": "https://localhost:8080/",
          "height": 225
        },
        "id": "pyi9mTx8YRSw",
        "outputId": "c4689fb1-6d09-4eed-88a9-3f2cb460d436"
      },
      "outputs": [
        {
          "data": {
            "text/html": [
              "\n",
              "            <div>\n",
              "                <p><b>SparkSession - in-memory</b></p>\n",
              "                \n",
              "        <div>\n",
              "            <p><b>SparkContext</b></p>\n",
              "\n",
              "            <p><a href=\"http://8cf2bf00ae87:4050\">Spark UI</a></p>\n",
              "\n",
              "            <dl>\n",
              "              <dt>Version</dt>\n",
              "                <dd><code>v3.2.1</code></dd>\n",
              "              <dt>Master</dt>\n",
              "                <dd><code>local</code></dd>\n",
              "              <dt>AppName</dt>\n",
              "                <dd><code>Colab</code></dd>\n",
              "            </dl>\n",
              "        </div>\n",
              "        \n",
              "            </div>\n",
              "        "
            ],
            "text/plain": [
              "<pyspark.sql.session.SparkSession at 0x7f1e05bc2390>"
            ]
          },
          "execution_count": 4,
          "metadata": {},
          "output_type": "execute_result"
        }
      ],
      "source": [
        "spark"
      ]
    },
    {
      "cell_type": "code",
      "execution_count": null,
      "metadata": {
        "id": "ugwg_aiOZCh5"
      },
      "outputs": [],
      "source": [
        "df = spark.read.csv('/content/drive/MyDrive/Colab Notebooks/test1.csv', header=True)"
      ]
    },
    {
      "cell_type": "code",
      "execution_count": null,
      "metadata": {
        "colab": {
          "base_uri": "https://localhost:8080/"
        },
        "id": "g09woBwhZNFZ",
        "outputId": "1a3e8a3b-1b76-45b9-8b08-78d62e99e4d4"
      },
      "outputs": [
        {
          "name": "stdout",
          "output_type": "stream",
          "text": [
            "+---------+---+----------+------+\n",
            "|     Name|age|Experience|Salary|\n",
            "+---------+---+----------+------+\n",
            "|    Krish| 31|        10| 30000|\n",
            "|Sudhanshu| 30|         8| 25000|\n",
            "|    Sunny| 29|         4| 20000|\n",
            "|     Paul| 24|         3| 20000|\n",
            "|   Harsha| 21|         1| 15000|\n",
            "|  Shubham| 23|         2|18000 |\n",
            "+---------+---+----------+------+\n",
            "\n"
          ]
        }
      ],
      "source": [
        "df.show()"
      ]
    },
    {
      "cell_type": "code",
      "execution_count": null,
      "metadata": {
        "colab": {
          "base_uri": "https://localhost:8080/"
        },
        "id": "pk1uSVdZPA1j",
        "outputId": "dbf9fa2a-8b46-458b-c20c-3509b3eb30cf"
      },
      "outputs": [
        {
          "data": {
            "text/plain": [
              "6"
            ]
          },
          "execution_count": 8,
          "metadata": {},
          "output_type": "execute_result"
        }
      ],
      "source": [
        "df.count()"
      ]
    },
    {
      "cell_type": "code",
      "execution_count": null,
      "metadata": {
        "id": "eiK9ohJQPJ01"
      },
      "outputs": [],
      "source": []
    },
    {
      "cell_type": "code",
      "execution_count": null,
      "metadata": {
        "colab": {
          "base_uri": "https://localhost:8080/"
        },
        "id": "BlmiG842QWhL",
        "outputId": "28d29f08-05f4-4d69-c4dd-5ad7ab8f0497"
      },
      "outputs": [
        {
          "name": "stdout",
          "output_type": "stream",
          "text": [
            "+---------+---+\n",
            "|     name|age|\n",
            "+---------+---+\n",
            "|    Krish| 31|\n",
            "|Sudhanshu| 30|\n",
            "|    Sunny| 29|\n",
            "|     Paul| 24|\n",
            "|   Harsha| 21|\n",
            "|  Shubham| 23|\n",
            "+---------+---+\n",
            "\n"
          ]
        }
      ],
      "source": [
        "df.select('name','age').show()"
      ]
    },
    {
      "cell_type": "code",
      "execution_count": null,
      "metadata": {
        "colab": {
          "base_uri": "https://localhost:8080/"
        },
        "id": "B6SY6eFQRlI7",
        "outputId": "97fc7f3d-a754-46fb-87a3-bd30cfeb09e5"
      },
      "outputs": [
        {
          "name": "stdout",
          "output_type": "stream",
          "text": [
            "root\n",
            " |-- Name: string (nullable = true)\n",
            " |-- age: string (nullable = true)\n",
            " |-- Experience: string (nullable = true)\n",
            " |-- Salary: string (nullable = true)\n",
            "\n"
          ]
        }
      ],
      "source": [
        "df.printSchema()"
      ]
    },
    {
      "cell_type": "code",
      "execution_count": null,
      "metadata": {
        "colab": {
          "base_uri": "https://localhost:8080/"
        },
        "id": "lPaneSvFRawx",
        "outputId": "0ff15980-6d22-424d-c835-2e106dc2e1c1"
      },
      "outputs": [
        {
          "name": "stdout",
          "output_type": "stream",
          "text": [
            "root\n",
            " |-- Name: string (nullable = true)\n",
            " |-- Age: integer (nullable = true)\n",
            " |-- Experience: string (nullable = true)\n",
            " |-- Salary: string (nullable = true)\n",
            "\n"
          ]
        }
      ],
      "source": [
        "df.withColumn('Age',df['age'].cast('Integer')).printSchema()"
      ]
    },
    {
      "cell_type": "code",
      "execution_count": 27,
      "metadata": {
        "colab": {
          "base_uri": "https://localhost:8080/"
        },
        "id": "qiAZs94BRUCC",
        "outputId": "c07e28f8-74bb-4e3b-be73-a6a81b58d562"
      },
      "outputs": [
        {
          "name": "stdout",
          "output_type": "stream",
          "text": [
            "+---------+---+----------+------+\n",
            "|     Name|age|Experience|Salary|\n",
            "+---------+---+----------+------+\n",
            "|    Krish| 31|        10| 30000|\n",
            "|Sudhanshu| 30|         8| 25000|\n",
            "|    Sunny| 29|         4| 20000|\n",
            "|     Paul| 24|         3| 20000|\n",
            "|   Harsha| 21|         1| 15000|\n",
            "|  Shubham| 23|         2|18000 |\n",
            "+---------+---+----------+------+\n",
            "\n"
          ]
        }
      ],
      "source": [
        "df.show()"
      ]
    },
    {
      "cell_type": "code",
      "execution_count": 47,
      "metadata": {
        "id": "XQRgv6ZRe-oG"
      },
      "outputs": [],
      "source": [
        "from datetime import datetime,timedelta\n",
        "import pytz\n",
        "from pyspark.sql.functions import col,lit\n",
        "from pyspark.sql.functions import *"
      ]
    },
    {
      "cell_type": "code",
      "execution_count": 32,
      "metadata": {
        "id": "6fg9kVdrfUVr"
      },
      "outputs": [],
      "source": [
        "tz_mexico = pytz.timezone('America/Mexico_City')\n",
        "fecha_hoy = datetime.now(tz_mexico).strftime('%Y-%m-%d %H:%M:%S')"
      ]
    },
    {
      "cell_type": "code",
      "execution_count": 33,
      "metadata": {
        "colab": {
          "base_uri": "https://localhost:8080/"
        },
        "id": "TtEuwZN8lc7W",
        "outputId": "a32801cd-4bea-4959-8943-b8d66e7b595a"
      },
      "outputs": [
        {
          "name": "stdout",
          "output_type": "stream",
          "text": [
            "2022-05-21 21:26:15\n"
          ]
        }
      ],
      "source": [
        "print(fecha_hoy)"
      ]
    },
    {
      "cell_type": "code",
      "execution_count": 41,
      "metadata": {
        "colab": {
          "base_uri": "https://localhost:8080/"
        },
        "id": "ZMccu7a6loGC",
        "outputId": "a0a76ae6-81de-47ff-9172-63fce0412670"
      },
      "outputs": [
        {
          "name": "stdout",
          "output_type": "stream",
          "text": [
            "+---------+---+----------+------+-------------------+\n",
            "|     Name|age|Experience|Salary|              Fecha|\n",
            "+---------+---+----------+------+-------------------+\n",
            "|    Krish| 31|        10| 30000|2022-05-21 21:26:15|\n",
            "|Sudhanshu| 30|         8| 25000|2022-05-21 21:26:15|\n",
            "|    Sunny| 29|         4| 20000|2022-05-21 21:26:15|\n",
            "|     Paul| 24|         3| 20000|2022-05-21 21:26:15|\n",
            "|   Harsha| 21|         1| 15000|2022-05-21 21:26:15|\n",
            "|  Shubham| 23|         2|18000 |2022-05-21 21:26:15|\n",
            "+---------+---+----------+------+-------------------+\n",
            "\n"
          ]
        }
      ],
      "source": [
        "dff = df.withColumn('Fecha', lit(fecha_hoy))\n",
        "dff.show()"
      ]
    },
    {
      "cell_type": "code",
      "execution_count": 42,
      "metadata": {
        "colab": {
          "base_uri": "https://localhost:8080/"
        },
        "id": "tiFYC3Kzm8_a",
        "outputId": "7e971ea3-c134-4135-ccc0-8450eff26c2c"
      },
      "outputs": [
        {
          "name": "stdout",
          "output_type": "stream",
          "text": [
            "root\n",
            " |-- Name: string (nullable = true)\n",
            " |-- age: string (nullable = true)\n",
            " |-- Experience: string (nullable = true)\n",
            " |-- Salary: string (nullable = true)\n",
            " |-- Fecha: string (nullable = false)\n",
            "\n"
          ]
        }
      ],
      "source": [
        "dff.printSchema()"
      ]
    },
    {
      "cell_type": "code",
      "execution_count": 44,
      "metadata": {
        "id": "4Knork0jnpL6"
      },
      "outputs": [],
      "source": [
        "fecha_hoy_dt = datetime.now(tz_mexico)"
      ]
    },
    {
      "cell_type": "code",
      "execution_count": 76,
      "metadata": {
        "colab": {
          "base_uri": "https://localhost:8080/"
        },
        "id": "osh8plV9n_a-",
        "outputId": "696d29af-1385-4e1f-dbba-0efa5416a577"
      },
      "outputs": [
        {
          "name": "stdout",
          "output_type": "stream",
          "text": [
            "+---------+---+----------+------+----------+\n",
            "|     Name|age|Experience|Salary|     fecha|\n",
            "+---------+---+----------+------+----------+\n",
            "|    Krish| 31|        10| 30000|1653168375|\n",
            "|Sudhanshu| 30|         8| 25000|1653168375|\n",
            "|    Sunny| 29|         4| 20000|1653168375|\n",
            "|     Paul| 24|         3| 20000|1653168375|\n",
            "|   Harsha| 21|         1| 15000|1653168375|\n",
            "|  Shubham| 23|         2|18000 |1653168375|\n",
            "+---------+---+----------+------+----------+\n",
            "\n"
          ]
        }
      ],
      "source": [
        "df_unix = dff.select('Name','age','Experience','Salary',unix_timestamp(col('Fecha')).alias('fecha'))\n",
        "df_unix.show()"
      ]
    },
    {
      "cell_type": "code",
      "execution_count": 78,
      "metadata": {
        "colab": {
          "base_uri": "https://localhost:8080/"
        },
        "id": "kXY1ulCRo7Ih",
        "outputId": "d4a08346-53d8-493b-a6df-94f6def56d81"
      },
      "outputs": [
        {
          "name": "stdout",
          "output_type": "stream",
          "text": [
            "+---------+---+----------+------+-------------------+\n",
            "|     Name|age|Experience|Salary|              fecha|\n",
            "+---------+---+----------+------+-------------------+\n",
            "|    Krish| 31|        10| 30000|2022-05-21 21:26:15|\n",
            "|Sudhanshu| 30|         8| 25000|2022-05-21 21:26:15|\n",
            "|    Sunny| 29|         4| 20000|2022-05-21 21:26:15|\n",
            "|     Paul| 24|         3| 20000|2022-05-21 21:26:15|\n",
            "|   Harsha| 21|         1| 15000|2022-05-21 21:26:15|\n",
            "|  Shubham| 23|         2|18000 |2022-05-21 21:26:15|\n",
            "+---------+---+----------+------+-------------------+\n",
            "\n"
          ]
        }
      ],
      "source": [
        "df_not_unix = df_unix.select('Name','age','Experience','Salary',from_unixtime(col('Fecha')).alias('fecha'))\n",
        "df_not_unix.show()"
      ]
    },
    {
      "cell_type": "code",
      "execution_count": 79,
      "metadata": {
        "colab": {
          "base_uri": "https://localhost:8080/"
        },
        "id": "JC2MKkRvqqa5",
        "outputId": "9b5b09ca-f955-4c7b-9fdb-495f24219b19"
      },
      "outputs": [
        {
          "name": "stdout",
          "output_type": "stream",
          "text": [
            "+---------+---+----------+------+----------+\n",
            "|     Name|age|Experience|Salary|     fecha|\n",
            "+---------+---+----------+------+----------+\n",
            "|    Krish| 31|        10| 30000|1653168375|\n",
            "|Sudhanshu| 30|         8| 25000|1653168375|\n",
            "|    Sunny| 29|         4| 20000|1653168375|\n",
            "|     Paul| 24|         3| 20000|1653168375|\n",
            "|   Harsha| 21|         1| 15000|1653168375|\n",
            "|  Shubham| 23|         2|18000 |1653168375|\n",
            "+---------+---+----------+------+----------+\n",
            "\n",
            "root\n",
            " |-- Name: string (nullable = true)\n",
            " |-- age: string (nullable = true)\n",
            " |-- Experience: string (nullable = true)\n",
            " |-- Salary: string (nullable = true)\n",
            " |-- fecha: long (nullable = true)\n",
            "\n"
          ]
        }
      ],
      "source": [
        "df_convert = df_not_unix.withColumn(\"fecha\", unix_timestamp(col('fecha')).cast('bigint'))\n",
        "df_convert.show()\n",
        "df_convert.printSchema()"
      ]
    },
    {
      "cell_type": "code",
      "execution_count": null,
      "metadata": {
        "id": "HX21DegVvHYf"
      },
      "outputs": [],
      "source": []
    }
  ],
  "metadata": {
    "colab": {
      "collapsed_sections": [],
      "name": "pruebas.ipynb",
      "provenance": []
    },
    "kernelspec": {
      "display_name": "Python 3",
      "name": "python3"
    },
    "language_info": {
      "name": "python"
    }
  },
  "nbformat": 4,
  "nbformat_minor": 0
}
