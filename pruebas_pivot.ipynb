{
 "cells": [
  {
   "cell_type": "code",
   "execution_count": 4,
   "id": "d0ac908f-05cb-4726-a6f8-784220cccc69",
   "metadata": {},
   "outputs": [
    {
     "name": "stderr",
     "output_type": "stream",
     "text": [
      "Using Spark's default log4j profile: org/apache/spark/log4j-defaults.properties\n",
      "Setting default log level to \"WARN\".\n",
      "To adjust logging level use sc.setLogLevel(newLevel). For SparkR, use setLogLevel(newLevel).\n",
      "22/05/29 17:12:01 WARN NativeCodeLoader: Unable to load native-hadoop library for your platform... using builtin-java classes where applicable\n"
     ]
    }
   ],
   "source": [
    "import pyspark\n",
    "from pyspark.sql import SparkSession\n",
    "from pyspark.sql.functions import *\n",
    "\n",
    "\n",
    "spark = SparkSession.builder\\\n",
    "        .appName(\"Test_pivot\")\\\n",
    "        .getOrCreate()"
   ]
  },
  {
   "cell_type": "code",
   "execution_count": 6,
   "id": "9ba372bb-040b-46b1-b3f9-15ebc99811a3",
   "metadata": {},
   "outputs": [
    {
     "name": "stderr",
     "output_type": "stream",
     "text": [
      "                                                                                \r"
     ]
    }
   ],
   "source": [
    "df = spark.read.csv('ratings.csv', header=True)"
   ]
  },
  {
   "cell_type": "code",
   "execution_count": 7,
   "id": "a4294cd9-4041-4a33-8ad3-25d5b8fe157c",
   "metadata": {},
   "outputs": [
    {
     "name": "stdout",
     "output_type": "stream",
     "text": [
      "+------+-------+------+---------+\n",
      "|userId|movieId|rating|timestamp|\n",
      "+------+-------+------+---------+\n",
      "|     1|      1|   4.0|964982703|\n",
      "|     1|      3|   4.0|964981247|\n",
      "|     1|      6|   4.0|964982224|\n",
      "|     1|     47|   5.0|964983815|\n",
      "|     1|     50|   5.0|964982931|\n",
      "|     1|     70|   3.0|964982400|\n",
      "|     1|    101|   5.0|964980868|\n",
      "|     1|    110|   4.0|964982176|\n",
      "|     1|    151|   5.0|964984041|\n",
      "|     1|    157|   5.0|964984100|\n",
      "|     1|    163|   5.0|964983650|\n",
      "|     1|    216|   5.0|964981208|\n",
      "|     1|    223|   3.0|964980985|\n",
      "|     1|    231|   5.0|964981179|\n",
      "|     1|    235|   4.0|964980908|\n",
      "|     1|    260|   5.0|964981680|\n",
      "|     1|    296|   3.0|964982967|\n",
      "|     1|    316|   3.0|964982310|\n",
      "|     1|    333|   5.0|964981179|\n",
      "|     1|    349|   4.0|964982563|\n",
      "+------+-------+------+---------+\n",
      "only showing top 20 rows\n",
      "\n"
     ]
    }
   ],
   "source": [
    "df.show()"
   ]
  },
  {
   "cell_type": "code",
   "execution_count": 8,
   "id": "62fa0aab-7dd2-4d54-87ff-d7fd53a7820c",
   "metadata": {},
   "outputs": [],
   "source": [
    "list_users = ['1','2','3','4','5','6','7','8','9']"
   ]
  },
  {
   "cell_type": "code",
   "execution_count": 9,
   "id": "92b5b560-051e-4c91-b9fe-4e35cec32176",
   "metadata": {},
   "outputs": [
    {
     "name": "stdout",
     "output_type": "stream",
     "text": [
      "+------+-------+\n",
      "|userId|movieId|\n",
      "+------+-------+\n",
      "|     1|      1|\n",
      "|     1|      3|\n",
      "|     1|      6|\n",
      "|     1|     47|\n",
      "|     1|     50|\n",
      "|     1|     70|\n",
      "|     1|    101|\n",
      "|     1|    110|\n",
      "|     1|    151|\n",
      "|     1|    157|\n",
      "|     1|    163|\n",
      "|     1|    216|\n",
      "|     1|    223|\n",
      "|     1|    231|\n",
      "|     1|    235|\n",
      "|     1|    260|\n",
      "|     1|    296|\n",
      "|     1|    316|\n",
      "|     1|    333|\n",
      "|     1|    349|\n",
      "+------+-------+\n",
      "only showing top 20 rows\n",
      "\n"
     ]
    }
   ],
   "source": [
    "df_new = df.select(df.userId,df.movieId)\n",
    "df_new.show()"
   ]
  },
  {
   "cell_type": "code",
   "execution_count": 10,
   "id": "b151d528-3bd0-47d7-bab5-251b32f0230e",
   "metadata": {},
   "outputs": [],
   "source": [
    "users = df_new.\\\n",
    "  select('userId','movieId').\\\n",
    "  filter(df_new.userId.isin(list_users))"
   ]
  },
  {
   "cell_type": "code",
   "execution_count": 11,
   "id": "88217986-13da-4e29-9e22-3c429ef58dc6",
   "metadata": {},
   "outputs": [],
   "source": [
    "users2 = users.groupBy('userId').agg(count('movieId').alias('movies')).orderBy(users.userId.asc())"
   ]
  },
  {
   "cell_type": "code",
   "execution_count": 12,
   "id": "8e094913-6376-4056-9444-fc54f9d14541",
   "metadata": {},
   "outputs": [
    {
     "name": "stderr",
     "output_type": "stream",
     "text": [
      "[Stage 3:>                                                          (0 + 1) / 1]\r"
     ]
    },
    {
     "name": "stdout",
     "output_type": "stream",
     "text": [
      "+------+------+\n",
      "|userId|movies|\n",
      "+------+------+\n",
      "|     1|   232|\n",
      "|     2|    29|\n",
      "|     3|    39|\n",
      "|     4|   216|\n",
      "|     5|    44|\n",
      "|     6|   314|\n",
      "|     7|   152|\n",
      "|     8|    47|\n",
      "|     9|    46|\n",
      "+------+------+\n",
      "\n"
     ]
    },
    {
     "name": "stderr",
     "output_type": "stream",
     "text": [
      "                                                                                \r"
     ]
    }
   ],
   "source": [
    "users2.show()"
   ]
  },
  {
   "cell_type": "code",
   "execution_count": 13,
   "id": "8d20c7a2-2363-44ce-afeb-a22ec47220b9",
   "metadata": {},
   "outputs": [
    {
     "name": "stderr",
     "output_type": "stream",
     "text": [
      "                                                                                \r"
     ]
    },
    {
     "name": "stdout",
     "output_type": "stream",
     "text": [
      "root\n",
      " |-- userId: string (nullable = true)\n",
      " |-- 1: long (nullable = true)\n",
      " |-- 2: long (nullable = true)\n",
      " |-- 3: long (nullable = true)\n",
      " |-- 4: long (nullable = true)\n",
      " |-- 5: long (nullable = true)\n",
      " |-- 6: long (nullable = true)\n",
      " |-- 7: long (nullable = true)\n",
      " |-- 8: long (nullable = true)\n",
      " |-- 9: long (nullable = true)\n",
      " |-- Usuarios: string (nullable = false)\n",
      "\n"
     ]
    }
   ],
   "source": [
    "users_pivot = users.groupBy('userId').pivot('userId').agg(count('movieId').alias('movies')).withColumn('Usuarios',lit('Number of movies')).orderBy(users.userId.asc())\n",
    "users_pivot.printSchema()"
   ]
  },
  {
   "cell_type": "code",
   "execution_count": 14,
   "id": "f9661efc-2feb-46b8-86ed-f9d81928c39e",
   "metadata": {},
   "outputs": [],
   "source": [
    "otro = users_pivot.select(\n",
    "    sum('1').alias('user 1'),\n",
    "    sum('2').alias('user 2'),\n",
    "    sum('3').alias('user 3'),\n",
    "    sum('4').alias('user 4'),\n",
    "    sum('5').alias('user 5'),\n",
    "    sum('6').alias('user 6'),\n",
    "    sum('7').alias('user 7'),\n",
    "    sum('8').alias('user 8'),\n",
    "    sum('9').alias('user 9'))"
   ]
  },
  {
   "cell_type": "code",
   "execution_count": 15,
   "id": "253d8837-db8e-4d21-9efc-2db9ccdc4f67",
   "metadata": {},
   "outputs": [
    {
     "name": "stdout",
     "output_type": "stream",
     "text": [
      "+------+------+------+------+------+------+------+------+------+\n",
      "|user 1|user 2|user 3|user 4|user 5|user 6|user 7|user 8|user 9|\n",
      "+------+------+------+------+------+------+------+------+------+\n",
      "|   232|    29|    39|   216|    44|   314|   152|    47|    46|\n",
      "+------+------+------+------+------+------+------+------+------+\n",
      "\n"
     ]
    }
   ],
   "source": [
    "otro.show()"
   ]
  },
  {
   "cell_type": "code",
   "execution_count": null,
   "id": "8396608f-5960-481e-89a9-b77e1b4b31d0",
   "metadata": {},
   "outputs": [],
   "source": []
  }
 ],
 "metadata": {
  "interpreter": {
   "hash": "4e1d9a8909477db77738c33245c29c7265277ef753467dede8cf3f814cde494e"
  },
  "kernelspec": {
   "display_name": "Python 3.10.4 64-bit",
   "language": "python",
   "name": "python3"
  },
  "language_info": {
   "codemirror_mode": {
    "name": "ipython",
    "version": 3
   },
   "file_extension": ".py",
   "mimetype": "text/x-python",
   "name": "python",
   "nbconvert_exporter": "python",
   "pygments_lexer": "ipython3",
   "version": "3.10.4"
  }
 },
 "nbformat": 4,
 "nbformat_minor": 5
}
